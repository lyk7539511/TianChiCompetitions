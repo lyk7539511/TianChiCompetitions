{
 "cells": [
  {
   "cell_type": "code",
   "execution_count": 1,
   "id": "above-hotel",
   "metadata": {},
   "outputs": [],
   "source": [
    "import pandas as pd\n",
    "import numpy as np\n",
    "import matplotlib.pyplot as plt\n",
    "import torch"
   ]
  },
  {
   "cell_type": "code",
   "execution_count": 2,
   "id": "soviet-membrane",
   "metadata": {},
   "outputs": [
    {
     "name": "stdout",
     "output_type": "stream",
     "text": [
      "<bound method NDFrame.head of           id                                  heartbeat_signals  label\n",
      "0          0  0.9912297987616655,0.9435330436439665,0.764677...    0.0\n",
      "1          1  0.9714822034884503,0.9289687459588268,0.572932...    0.0\n",
      "2          2  1.0,0.9591487564065292,0.7013782792997189,0.23...    2.0\n",
      "3          3  0.9757952826275774,0.9340884687738161,0.659636...    0.0\n",
      "4          4  0.0,0.055816398940721094,0.26129357194994196,0...    2.0\n",
      "...      ...                                                ...    ...\n",
      "99995  99995  1.0,0.677705342021188,0.22239242747868546,0.25...    0.0\n",
      "99996  99996  0.9268571578157265,0.9063471198026871,0.636993...    2.0\n",
      "99997  99997  0.9258351628306013,0.5873839035878395,0.633226...    3.0\n",
      "99998  99998  1.0,0.9947621698382489,0.8297017704865509,0.45...    2.0\n",
      "99999  99999  0.9259994004527861,0.916476635326053,0.4042900...    0.0\n",
      "\n",
      "[100000 rows x 3 columns]>\n",
      "<bound method NDFrame.head of            id                                  heartbeat_signals\n",
      "0      100000  0.9915713654170097,1.0,0.6318163407681274,0.13...\n",
      "1      100001  0.6075533139615096,0.5417083883163654,0.340694...\n",
      "2      100002  0.9752726292239277,0.6710965234906665,0.686758...\n",
      "3      100003  0.9956348033996116,0.9170249621481004,0.521096...\n",
      "4      100004  1.0,0.8879490481178918,0.745564725322326,0.531...\n",
      "...       ...                                                ...\n",
      "19995  119995  1.0,0.8330283177934747,0.6340472606311671,0.63...\n",
      "19996  119996  1.0,0.8259705825857048,0.4521053488322387,0.08...\n",
      "19997  119997  0.951744840752379,0.9162611283848351,0.6675251...\n",
      "19998  119998  0.9276692903808186,0.6771898159607004,0.242906...\n",
      "19999  119999  0.6653212231837624,0.527064114047737,0.5166625...\n",
      "\n",
      "[20000 rows x 2 columns]>\n"
     ]
    }
   ],
   "source": [
    "# import data\n",
    "train_data = pd.read_csv(\"train.csv\")\n",
    "test_data = pd.read_csv(\"testA.csv\")\n",
    "print(train_data.head)\n",
    "print(test_data.head)"
   ]
  },
  {
   "cell_type": "code",
   "execution_count": 3,
   "id": "later-bangkok",
   "metadata": {},
   "outputs": [],
   "source": [
    "## train data init\n",
    "train_data = np.array(train_data)\n",
    "train_x = train_data[:,1]\n",
    "train_y = train_data[:,2]\n",
    "# change label to one-hot\n",
    "from sklearn.preprocessing import OneHotEncoder\n",
    "enc = OneHotEncoder(sparse=False)\n",
    "#一个train_data含有多个特征，使用OneHotEncoder时，特征和标签都要按列存放, sklearn都要用二维矩阵的方式存放\n",
    "one_hot_train_y = enc.fit_transform(train_y.reshape(-1, 1))   # 如果不加 toarray() 的话，输出的是稀疏的存储格式，即索引加值的形式，也可以通过参数指定 sparse = False 来达到同样的效果\n",
    "\n",
    "## test data init\n",
    "test_data = np.array(test_data)\n",
    "test_x = test_data[:,1]"
   ]
  },
  {
   "cell_type": "code",
   "execution_count": null,
   "id": "geographic-warehouse",
   "metadata": {},
   "outputs": [],
   "source": []
  }
 ],
 "metadata": {
  "kernelspec": {
   "display_name": "Python 3",
   "language": "python",
   "name": "python3"
  },
  "language_info": {
   "codemirror_mode": {
    "name": "ipython",
    "version": 3
   },
   "file_extension": ".py",
   "mimetype": "text/x-python",
   "name": "python",
   "nbconvert_exporter": "python",
   "pygments_lexer": "ipython3",
   "version": "3.8.8"
  }
 },
 "nbformat": 4,
 "nbformat_minor": 5
}
